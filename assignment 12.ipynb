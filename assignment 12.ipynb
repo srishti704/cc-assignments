{
 "cells": [
  {
   "cell_type": "code",
   "execution_count": 1,
   "metadata": {
    "colab": {
     "base_uri": "https://localhost:8080/"
    },
    "executionInfo": {
     "elapsed": 41261,
     "status": "ok",
     "timestamp": 1746282830804,
     "user": {
      "displayName": "SANYA CHAKRABORTY",
      "userId": "13647299411721142640"
     },
     "user_tz": -330
    },
    "id": "G8kncmUrkH-7",
    "outputId": "39118544-eb66-418b-da53-c5deeffbc498"
   },
   "outputs": [
    {
     "name": "stdout",
     "output_type": "stream",
     "text": [
      "HealthBot: Hello! I am HealthBot. How can I assist you today?\n",
      "You: hi\n",
      "HealthBot: Hi! Do you have a health-related question?\n",
      "You: yes i have a cut on my knee what should i do?\n",
      "HealthBot: Clean the wound with water, apply antiseptic, and cover it with a clean bandage.\n",
      "You: thank you \n",
      "HealthBot: You’re welcome! Take care.\n",
      "You: bye\n",
      "HealthBot: Goodbye! Stay healthy.\n"
     ]
    }
   ],
   "source": [
    "def health_bot():\n",
    "    print(\"HealthBot: Hello! I am HealthBot. How can I assist you today?\")\n",
    "    while True:\n",
    "        user_input = input(\"You: \").lower()\n",
    "\n",
    "        if \"hi\" in user_input or \"hello\" in user_input:\n",
    "            print(\"HealthBot: Hi! Do you have a health-related question?\")\n",
    "\n",
    "        elif \"headache\" in user_input:\n",
    "            print(\"HealthBot: You should rest, stay hydrated, and take a mild pain reliever if needed.\")\n",
    "\n",
    "        elif \"fever\" in user_input:\n",
    "            print(\"HealthBot: Drink plenty of fluids and rest. If the fever persists, please consult a doctor.\")\n",
    "\n",
    "        elif \"dizzy\" in user_input:\n",
    "            print(\"HealthBot: Sit down, breathe deeply, and drink water. If it continues, seek medical help.\")\n",
    "\n",
    "        elif \"cold\" in user_input and \"eat\" in user_input:\n",
    "            print(\"HealthBot: Warm fluids, soups, citrus fruits, and light meals help during a cold.\")\n",
    "\n",
    "        elif \"stay healthy\" in user_input or \"how to stay healthy\" in user_input:\n",
    "            print(\"HealthBot: Eat balanced meals, exercise regularly, stay hydrated, and get enough sleep.\")\n",
    "\n",
    "        elif \"cut\" in user_input:\n",
    "            print(\"HealthBot: Clean the wound with water, apply antiseptic, and cover it with a clean bandage.\")\n",
    "\n",
    "        elif \"water\" in user_input and \"drink\" in user_input:\n",
    "            print(\"HealthBot: Generally, 2 to 3 liters per day is recommended, but it varies based on your activity.\")\n",
    "\n",
    "        elif \"thank\" in user_input:\n",
    "            print(\"HealthBot: You’re welcome! Take care.\")\n",
    "\n",
    "        elif \"bye\" in user_input:\n",
    "            print(\"HealthBot: Goodbye! Stay healthy.\")\n",
    "            break\n",
    "\n",
    "        else:\n",
    "            print(\"HealthBot: I'm sorry, I don't have information on that. Please consult a medical professional.\")\n",
    "\n",
    "# Run the bot\n",
    "health_bot()\n"
   ]
  }
 ],
 "metadata": {
  "colab": {
   "authorship_tag": "ABX9TyPQVty/CKZymddSUoCxs+vS",
   "provenance": [
    {
     "file_id": "1OABraWeqDSlf7ScfRIAaFFncc2fYobml",
     "timestamp": 1746282880159
    }
   ]
  },
  "kernelspec": {
   "display_name": "Python 3",
   "name": "python3"
  },
  "language_info": {
   "name": "python"
  }
 },
 "nbformat": 4,
 "nbformat_minor": 0
}
