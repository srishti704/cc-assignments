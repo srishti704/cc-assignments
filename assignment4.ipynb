{
 "cells": [
  {
   "cell_type": "code",
   "execution_count": 1,
   "id": "71fcd9e2-95fa-417f-8dda-16c1d07d8fc7",
   "metadata": {},
   "outputs": [],
   "source": [
    "import numpy as np"
   ]
  },
  {
   "cell_type": "code",
   "execution_count": 2,
   "id": "0d8cd403-f3c6-4956-a4ac-d2cb496fec0c",
   "metadata": {},
   "outputs": [
    {
     "name": "stdout",
     "output_type": "stream",
     "text": [
      "[1 2 3 4]\n",
      "<class 'numpy.ndarray'>\n",
      "int32\n",
      "1\n",
      "(4,)\n",
      "[[0. 0. 0.]\n",
      " [0. 0. 0.]]\n",
      "[[0. 0. 0.]\n",
      " [0. 0. 0.]]\n",
      "[[1. 1. 1.]\n",
      " [1. 1. 1.]]\n",
      "[[1. 1. 1.]\n",
      " [1. 1. 1.]]\n"
     ]
    }
   ],
   "source": [
    "a=np.array([1,2,3,4])\n",
    "print(a)\n",
    "print(type(a))\n",
    "print(a.dtype)\n",
    "print(a.ndim)\n",
    "print(a.shape)\n",
    "\n",
    "zero=np.zeros((2,3))\n",
    "print(zero)\n",
    "empty=np.empty((2,3))\n",
    "print(empty)\n",
    "one=np.ones((2,3))\n",
    "print(one)\n",
    "empty=np.empty((2,3))\n",
    "print(empty)"
   ]
  },
  {
   "cell_type": "code",
   "execution_count": 3,
   "id": "27b092a6-0e5b-40b4-a1a0-e3cb89c1d0ff",
   "metadata": {},
   "outputs": [
    {
     "name": "stdout",
     "output_type": "stream",
     "text": [
      "[[1 2]\n",
      " [3 4]]\n",
      "[[1 2 3]\n",
      " [4 1 2]\n",
      " [3 4 1]]\n"
     ]
    }
   ],
   "source": [
    "# normal sequences are slow because each and evry operation is interpreted and executed one by one\n",
    "b=np.resize(a, (2,2))\n",
    "print(b)\n",
    "\n",
    "c=np.resize(a, (3,3))\n",
    "print(c) #concept of broadcasting"
   ]
  },
  {
   "cell_type": "code",
   "execution_count": 4,
   "id": "ce8735bb-9353-44f4-8b10-a5b1ea5b5e2c",
   "metadata": {},
   "outputs": [
    {
     "name": "stdout",
     "output_type": "stream",
     "text": [
      "[1, 4, 9, 16]\n",
      "[ 1  4  9 16]\n"
     ]
    }
   ],
   "source": [
    "dNOOB = []\n",
    "for i in range(len(a)):\n",
    "  dNOOB.append(a[i]**2)\n",
    "  # this will check the datatype of every item every time it do some operation\n",
    "  # every iteration need interpretation --> inefficiency\n",
    "  # Memory allocation dynamic\n",
    "print(dNOOB)\n",
    "\n",
    "d=np.array(a**2)\n",
    "print(d)"
   ]
  },
  {
   "cell_type": "markdown",
   "id": "a1fb3a39-a7b1-4e09-a4e6-e68cf0f38ba1",
   "metadata": {},
   "source": [
    "Assignment\n",
    "\n",
    "Q.1 Write a program to create a NumPy 1D-array with 5 elements and perform basic operations like:\n",
    "\n",
    "a) Addition of 2 in all the element\n",
    "\n",
    "b) Multiply 3 with all the elements\n",
    "\n",
    "c) Divide every element by 2"
   ]
  },
  {
   "cell_type": "code",
   "execution_count": 5,
   "id": "78b61b70-649c-4f2e-ba57-553abda652af",
   "metadata": {},
   "outputs": [
    {
     "name": "stdout",
     "output_type": "stream",
     "text": [
      "[ 4  6  8 10 11]\n",
      "[ 6 12 18 24 27]\n",
      "[1.  2.  3.  4.  4.5]\n"
     ]
    }
   ],
   "source": [
    "arr1 = np.array([2,4,6,8,9])\n",
    "arr2 = arr1+2\n",
    "print(arr2)\n",
    "arr3 = arr1*3\n",
    "print(arr3)\n",
    "arr4 = arr1/2\n",
    "print(arr4)"
   ]
  },
  {
   "cell_type": "markdown",
   "id": "1f6fe833-0517-4817-8a60-a916225b23f0",
   "metadata": {},
   "source": [
    "Q.2 Questions on Basic NumPy Array:\n",
    "\n",
    "a) Reverse the NumPy array: arr = np.array([1, 2, 3, 6, 4, 5])"
   ]
  },
  {
   "cell_type": "code",
   "execution_count": 6,
   "id": "1fa0c288-e963-427a-9fcc-c0a999bd3527",
   "metadata": {},
   "outputs": [
    {
     "name": "stdout",
     "output_type": "stream",
     "text": [
      "[5 4 6 3 2 1]\n"
     ]
    }
   ],
   "source": [
    "arr = np.array([1, 2, 3, 6, 4, 5])\n",
    "print(arr[::-1])"
   ]
  },
  {
   "cell_type": "markdown",
   "id": "db21da85-a97e-404b-9dbf-1796f1492f89",
   "metadata": {},
   "source": [
    "Q.2\n",
    "\n",
    "b) Find the most frequent value and their indice(s) in the following arrays: i. x = np.array([1,2,3,4,5,1,2,1,1,1]) ii. y = np.array([1, 1, 1, 2, 3, 4, 2, 4, 3, 3, ])"
   ]
  },
  {
   "cell_type": "code",
   "execution_count": 7,
   "id": "f212af2f-a124-4854-95c6-2ff90fecd194",
   "metadata": {},
   "outputs": [
    {
     "name": "stdout",
     "output_type": "stream",
     "text": [
      "[1 2 3 4 5]\n",
      "[5 2 1 1 1]\n",
      "Element with the most occurences : 1\n",
      "[1 2 3 4]\n",
      "[3 2 3 2]\n",
      "Element with the most occurences : 1\n"
     ]
    }
   ],
   "source": [
    "x = np.array([1,2,3,4,5,1,2,1,1,1])\n",
    "y = np.array([1, 1, 1, 2, 3, 4, 2, 4, 3, 3, ])\n",
    "elems, counts = np.unique(x, return_counts=True)\n",
    "print(elems)\n",
    "print(counts)\n",
    "print(f'Element with the most occurences : {elems[np.argmax(counts)]}')\n",
    "elemsY, countsY = np.unique(y, return_counts=True)\n",
    "print(elemsY)\n",
    "print(countsY)\n",
    "print(f'Element with the most occurences : {elems[np.argmax(counts)]}')"
   ]
  },
  {
   "cell_type": "markdown",
   "id": "3f9c78f8-4402-4d20-aa84-06088b5c79d1",
   "metadata": {},
   "source": [
    "Q.3 For the given 2-D array arr=np.array([10, 20, 30], [40, 50, 60], [70, 80, 90]), access elements using row and column indices as follows:\n",
    "\n",
    "a) Access 1st row, 2nd column\n",
    "\n",
    "b) Access 3rd row, 1st column"
   ]
  },
  {
   "cell_type": "code",
   "execution_count": 8,
   "id": "dcfb305e-3d8b-43ce-98ce-c37cc3115a66",
   "metadata": {},
   "outputs": [
    {
     "name": "stdout",
     "output_type": "stream",
     "text": [
      "20\n",
      "70\n"
     ]
    }
   ],
   "source": [
    "arr=np.array([[10, 20, 30], [40, 50, 60], [70, 80, 90]])\n",
    "print(arr[0,1])\n",
    "print(arr[2,0])\n",
    "     "
   ]
  },
  {
   "cell_type": "markdown",
   "id": "ec9c2fc6-319f-4f4e-b98a-dd5f2ffc6034",
   "metadata": {},
   "source": [
    "Q.4 Write program to create an 1-D NumPy array named <<\\Your Name>> with evenly spaced 25 numbers from 10 to 100 using linspace().\n",
    "\n",
    "Print the dimensions of the array, shape, total elements, the data type of each element and total number of bytes consumed by the array.\n",
    "\n",
    "Find the transpose of this array using reshape() attribute.\n",
    "\n",
    "Can we do the same with T attribute?"
   ]
  },
  {
   "cell_type": "code",
   "execution_count": 12,
   "id": "c6ce8b3c-db1c-4e62-a065-a5f913510633",
   "metadata": {},
   "outputs": [
    {
     "name": "stdout",
     "output_type": "stream",
     "text": [
      "The array formed: [ 10.    13.75  17.5   21.25  25.    28.75  32.5   36.25  40.    43.75\n",
      "  47.5   51.25  55.    58.75  62.5   66.25  70.    73.75  77.5   81.25\n",
      "  85.    88.75  92.5   96.25 100.  ]\n",
      "Dimensions: 1\n",
      "Shape: (25,)\n",
      "Elements: 25\n",
      "Data type: float64\n",
      "Bytes per element: 8\n",
      "Total bytes: 200\n",
      "Reshaped:\n",
      "[[ 10.  ]\n",
      " [ 13.75]\n",
      " [ 17.5 ]\n",
      " [ 21.25]\n",
      " [ 25.  ]\n",
      " [ 28.75]\n",
      " [ 32.5 ]\n",
      " [ 36.25]\n",
      " [ 40.  ]\n",
      " [ 43.75]\n",
      " [ 47.5 ]\n",
      " [ 51.25]\n",
      " [ 55.  ]\n",
      " [ 58.75]\n",
      " [ 62.5 ]\n",
      " [ 66.25]\n",
      " [ 70.  ]\n",
      " [ 73.75]\n",
      " [ 77.5 ]\n",
      " [ 81.25]\n",
      " [ 85.  ]\n",
      " [ 88.75]\n",
      " [ 92.5 ]\n",
      " [ 96.25]\n",
      " [100.  ]]\n",
      "\n",
      "Transposed:\n",
      " [[ 10.    13.75  17.5   21.25  25.    28.75  32.5   36.25  40.    43.75\n",
      "   47.5   51.25  55.    58.75  62.5   66.25  70.    73.75  77.5   81.25\n",
      "   85.    88.75  92.5   96.25 100.  ]]\n"
     ]
    }
   ],
   "source": [
    "SrishtiJain = np.linspace(10, 100, 25)\n",
    "print(f'The array formed: {SrishtiJain}')\n",
    "print(f'Dimensions: {SrishtiJain.ndim}')\n",
    "print(f'Shape: {SrishtiJain.shape}')\n",
    "print(f'Elements: {SrishtiJain.size}')\n",
    "print(f'Data type: {SrishtiJain.dtype}')\n",
    "print(f'Bytes per element: {SrishtiJain.itemsize}')\n",
    "print(f'Total bytes: {SrishtiJain.itemsize * SrishtiJain.size}')\n",
    "print(f'Reshaped:\\n{SrishtiJain.reshape(25,1)}')\n",
    "\n",
    "print(\"\\nTransposed:\\n\", SrishtiJain.reshape(25,1).T)\n",
    "# Since we made a 1-D array there is not any rows or columns and just one dimensional array\n",
    "# so transposing will not affect it in any way"
   ]
  },
  {
   "cell_type": "markdown",
   "id": "edf0e905-b7bc-4aac-9c83-bbf70c8f2f3a",
   "metadata": {},
   "source": [
    "Q5. Create a 2-D Array of three rows and four columns, named ucs420_<\\your_name>> with following values – 10, 20, 30, 40, 50, 60, 70, 80, 90, 15, 20, 35. Compute the mean, median, max, min, unique elements.\n",
    "\n",
    "Reshape the array to four rows and three columns and name it as reshaped_ ucs420_<\\your_name>>. Resize the array to two rows and three columns and name it as resized_ ucs420_<\\your_name>>."
   ]
  },
  {
   "cell_type": "code",
   "execution_count": 13,
   "id": "e22c22cd-cdeb-4a65-b1ac-caa052438177",
   "metadata": {},
   "outputs": [
    {
     "name": "stdout",
     "output_type": "stream",
     "text": [
      "Original:\n",
      "[[10 20 30 40]\n",
      " [50 60 70 80]\n",
      " [90 15 20 35]]\n",
      "\n",
      "Mean: 43.333333333333336\n",
      "Median: 37.5\n",
      "Max: 90\n",
      "Min: 10\n",
      "\n",
      "Unique Elements: [10 15 20 30 35 40 50 60 70 80 90]\n",
      "Their count: [1 1 2 1 1 1 1 1 1 1 1]\n",
      "\n",
      "Reshaped (4x3):\n",
      "[[10 20 30]\n",
      " [40 50 60]\n",
      " [70 80 90]\n",
      " [15 20 35]]\n",
      "\n",
      "Resized (2x3):\n",
      "[[10 20 30]\n",
      " [40 50 60]]\n"
     ]
    }
   ],
   "source": [
    "ucs420_SrishtiJain = np.array([10, 20, 30, 40, 50, 60, 70, 80, 90, 15, 20, 35])\n",
    "ucs420_SrishtiJain = ucs420_SrishtiJain.reshape(3,4)\n",
    "print(f'Original:\\n{ucs420_SrishtiJain}')\n",
    "\n",
    "print(f'\\nMean: {np.mean(ucs420_SrishtiJain)}')\n",
    "print(f'Median: {np.median(ucs420_SrishtiJain)}')\n",
    "print(f'Max: {np.max(ucs420_SrishtiJain)}')\n",
    "print(f'Min: {np.min(ucs420_SrishtiJain)}')\n",
    "\n",
    "x, y = np.unique(ucs420_SrishtiJain, return_counts=True)\n",
    "print(f'\\nUnique Elements: {x}')\n",
    "print(f'Their count: {y}')\n",
    "\n",
    "reshaped_ucs420_SrishtiJain = ucs420_SrishtiJain.reshape(4,3)\n",
    "print(f'\\nReshaped (4x3):\\n{reshaped_ucs420_SrishtiJain}')\n",
    "\n",
    "resized_ucs420_SrishtiJain = ucs420_SrishtiJain.copy()\n",
    "resized_ucs420_SrishtiJain.resize(2, 3)\n",
    "print(f'\\nResized (2x3):\\n{resized_ucs420_SrishtiJain}')"
   ]
  },
  {
   "cell_type": "code",
   "execution_count": null,
   "id": "06879e39-0b28-415c-9ac4-e53b0d63a236",
   "metadata": {},
   "outputs": [],
   "source": []
  }
 ],
 "metadata": {
  "kernelspec": {
   "display_name": "Python 3 (ipykernel)",
   "language": "python",
   "name": "python3"
  },
  "language_info": {
   "codemirror_mode": {
    "name": "ipython",
    "version": 3
   },
   "file_extension": ".py",
   "mimetype": "text/x-python",
   "name": "python",
   "nbconvert_exporter": "python",
   "pygments_lexer": "ipython3",
   "version": "3.12.7"
  }
 },
 "nbformat": 4,
 "nbformat_minor": 5
}
