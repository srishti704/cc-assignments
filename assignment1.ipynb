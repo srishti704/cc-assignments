{
 "cells": [
  {
   "cell_type": "markdown",
   "id": "37878b48-fd42-4a36-9ccd-94a06718136e",
   "metadata": {},
   "source": [
    "Assignment 1.1: WAP to print your name three times"
   ]
  },
  {
   "cell_type": "code",
   "execution_count": 7,
   "id": "a15edddc-70bd-42df-ad0b-e5bb50f101ba",
   "metadata": {},
   "outputs": [
    {
     "name": "stdout",
     "output_type": "stream",
     "text": [
      "Srishti Jain\n",
      "Srishti Jain\n",
      "Srishti Jain\n"
     ]
    }
   ],
   "source": [
    "for i in range(3):\n",
    "    print(\"Srishti Jain\")"
   ]
  },
  {
   "cell_type": "markdown",
   "id": "39b055a8-fd1b-4392-90e8-fdf22163266c",
   "metadata": {},
   "source": [
    "Assingment 2.1: WAP to add three numbers and print the result."
   ]
  },
  {
   "cell_type": "code",
   "execution_count": 8,
   "id": "4bee3a28-4880-4119-b6ce-77b5a5964cda",
   "metadata": {},
   "outputs": [
    {
     "name": "stdout",
     "output_type": "stream",
     "text": [
      "10+220+30 --> 260\n"
     ]
    }
   ],
   "source": [
    "a = 10\n",
    "b = 220\n",
    "c = 30\n",
    "d = a+b+c\n",
    "print(f\"{a}+{b}+{c} --> {d}\")"
   ]
  },
  {
   "cell_type": "markdown",
   "id": "782317f4-2bd2-4949-aa77-a8ec052958cc",
   "metadata": {},
   "source": [
    "Assingment 2.2: WAP to concatinate three strings and print the result."
   ]
  },
  {
   "cell_type": "code",
   "execution_count": 9,
   "id": "545f3c23-c259-4e5a-9a9c-e351a1fa367d",
   "metadata": {},
   "outputs": [
    {
     "name": "stdout",
     "output_type": "stream",
     "text": [
      "Hello +Srishti + Jain --> Hello Srishti Jain\n"
     ]
    }
   ],
   "source": [
    "hello = \"Hello \"\n",
    "a = \"Srishti\"\n",
    "b = \" Jain\"\n",
    "final = hello+a+b\t\n",
    "print (f\"{hello}+{a} +{b} --> {final}\")"
   ]
  },
  {
   "cell_type": "markdown",
   "id": "1a651b10-fa8e-47f3-bcc5-71f9b77db6ec",
   "metadata": {},
   "source": [
    "Assingment 4.1: WAP to print the table of 7, 9."
   ]
  },
  {
   "cell_type": "code",
   "execution_count": 10,
   "id": "a1a66054-c94f-4386-9983-dcf390ff63ad",
   "metadata": {},
   "outputs": [
    {
     "name": "stdout",
     "output_type": "stream",
     "text": [
      "7 X 0 = 0\n",
      "7 X 1 = 7\n",
      "7 X 2 = 14\n",
      "7 X 3 = 21\n",
      "7 X 4 = 28\n",
      "7 X 5 = 35\n",
      "7 X 6 = 42\n",
      "7 X 7 = 49\n",
      "7 X 8 = 56\n",
      "7 X 9 = 63\n",
      "7 X 10 = 70\n"
     ]
    }
   ],
   "source": [
    "for i in range(11):\n",
    "    print(f\"7 X {i} = {7*i}\")"
   ]
  },
  {
   "cell_type": "code",
   "execution_count": 11,
   "id": "b7b713be-0e35-486a-87a2-d814adccfba6",
   "metadata": {},
   "outputs": [
    {
     "name": "stdout",
     "output_type": "stream",
     "text": [
      "9 X 0 = 0\n",
      "9 X 1 = 9\n",
      "9 X 2 = 18\n",
      "9 X 3 = 27\n",
      "9 X 4 = 36\n",
      "9 X 5 = 45\n",
      "9 X 6 = 54\n",
      "9 X 7 = 63\n",
      "9 X 8 = 72\n",
      "9 X 9 = 81\n",
      "9 X 10 = 90\n"
     ]
    }
   ],
   "source": [
    "for i in range(11):\n",
    "    print(f\"9 X {i} = {9*i}\")"
   ]
  },
  {
   "cell_type": "markdown",
   "id": "75f44596-d4c2-4c36-897b-66d2d8f98601",
   "metadata": {},
   "source": [
    "Assingment 4.2: WAP to print the table of n and n is given by user."
   ]
  },
  {
   "cell_type": "code",
   "execution_count": 12,
   "id": "d410b284-930b-450d-8d3a-1d45579c00e4",
   "metadata": {},
   "outputs": [
    {
     "name": "stdin",
     "output_type": "stream",
     "text": [
      "Enter the number 8\n"
     ]
    },
    {
     "name": "stdout",
     "output_type": "stream",
     "text": [
      "8 X 0 = 0\n",
      "8 X 1 = 8\n",
      "8 X 2 = 16\n",
      "8 X 3 = 24\n",
      "8 X 4 = 32\n",
      "8 X 5 = 40\n",
      "8 X 6 = 48\n",
      "8 X 7 = 56\n",
      "8 X 8 = 64\n",
      "8 X 9 = 72\n",
      "8 X 10 = 80\n"
     ]
    }
   ],
   "source": [
    "n = int(input(\"Enter the number\"))\n",
    "for i in range(11):\n",
    "    print(f\"{n} X {i} = {n*i}\")"
   ]
  },
  {
   "cell_type": "markdown",
   "id": "aa0b8109-5041-448e-81e1-f247e537047c",
   "metadata": {},
   "source": [
    "Assingment 4.3: WAP to add all the numbers from 1 to n and n is given by user."
   ]
  },
  {
   "cell_type": "code",
   "execution_count": 13,
   "id": "4eb6edfe-ce24-46ea-b251-d942780be0f8",
   "metadata": {},
   "outputs": [
    {
     "name": "stdin",
     "output_type": "stream",
     "text": [
      "Enter the number 10\n"
     ]
    },
    {
     "name": "stdout",
     "output_type": "stream",
     "text": [
      "55.0\n"
     ]
    }
   ],
   "source": [
    "n = int(input(\"Enter the number\"))\n",
    "result = n*(n+1)/2\n",
    "print(result)"
   ]
  },
  {
   "cell_type": "markdown",
   "id": "17cef6f0-27e2-4127-b5a3-0876195f89af",
   "metadata": {},
   "source": [
    "Assingment 5.1: WAP to find max amoung three numbers and input from user. [Try max() function]"
   ]
  },
  {
   "cell_type": "code",
   "execution_count": 14,
   "id": "737a34e5-990d-4f0f-83ce-1471b12046d3",
   "metadata": {},
   "outputs": [
    {
     "name": "stdin",
     "output_type": "stream",
     "text": [
      "Enter the 0th number 1\n",
      "Enter the 1th number 2\n",
      "Enter the 2th number 3\n"
     ]
    },
    {
     "name": "stdout",
     "output_type": "stream",
     "text": [
      "[1, 2, 3]\n",
      "3\n"
     ]
    }
   ],
   "source": [
    "list1 = []\n",
    "for i in range(3):\n",
    "    list1.append(int(input(f\"Enter the {i}th number\")))\n",
    "print(list1)\n",
    "print(max(list1))"
   ]
  },
  {
   "cell_type": "markdown",
   "id": "daded581-b692-4764-b26d-878356ce02d7",
   "metadata": {},
   "source": [
    "Assingment 5.2: WAP to add all numbers divisible by 7 and 9 from 1 to n and n is given by the user."
   ]
  },
  {
   "cell_type": "code",
   "execution_count": 16,
   "id": "2f579252-89f7-48b9-9524-cbbd0689e6b8",
   "metadata": {},
   "outputs": [
    {
     "name": "stdin",
     "output_type": "stream",
     "text": [
      "Enter the number: 76\n"
     ]
    },
    {
     "name": "stdout",
     "output_type": "stream",
     "text": [
      "646\n"
     ]
    }
   ],
   "source": [
    "n= int(input(\"Enter the number:\"))\n",
    "sum=0\n",
    "for i in range(n+1):\n",
    "    if(i%7==0 or i%9==0):\n",
    "        sum+=i\n",
    "print(sum)"
   ]
  },
  {
   "cell_type": "markdown",
   "id": "5898a688-a4aa-47f6-9b17-9bc3ed07c2c7",
   "metadata": {},
   "source": [
    "Assingment 5.3: WAP to add all prime numbers from 1 to n and n is given by the user."
   ]
  },
  {
   "cell_type": "code",
   "execution_count": 17,
   "id": "1ac4e368-35dd-4b87-a1ec-c56c5425e5cd",
   "metadata": {},
   "outputs": [
    {
     "name": "stdin",
     "output_type": "stream",
     "text": [
      "Enter a No:  100\n"
     ]
    },
    {
     "name": "stdout",
     "output_type": "stream",
     "text": [
      "1060\n"
     ]
    }
   ],
   "source": [
    "n = int(input(\"Enter a No: \"))\n",
    "sum =0 \n",
    "for i in range(2, n+1):\n",
    "    flag =0\n",
    "    for div in range(2, int(i**0.5) + 1):\n",
    "    \tif  i%div == 0:\n",
    "    \t\tflag =1\n",
    "    \t\tbreak\n",
    "    if flag ==0:\n",
    "    \tsum+=i\n",
    "print(sum)"
   ]
  },
  {
   "cell_type": "markdown",
   "id": "91cfea5e-6ade-4213-9162-cd677366c2e9",
   "metadata": {},
   "source": [
    "Assingment 6.2: WAP using function that add all prime numbers from 1 to n, n given by the user."
   ]
  },
  {
   "cell_type": "code",
   "execution_count": 18,
   "id": "80cbaa85-1e49-4835-bfc1-a0d150eb8093",
   "metadata": {},
   "outputs": [
    {
     "name": "stdout",
     "output_type": "stream",
     "text": [
      "10\n"
     ]
    }
   ],
   "source": [
    "def oddAdder(n):\n",
    "    sum=0\n",
    "    for i in range(2, n+1):\n",
    "        flag=0\n",
    "        for div in range(2, int(i**0.5)+1):\n",
    "            if(i%div==0):\n",
    "                flag=1\n",
    "                break\n",
    "        if(flag==0):\n",
    "            sum+=i\n",
    "    return sum\n",
    "result = oddAdder(5)\n",
    "print(result)"
   ]
  },
  {
   "cell_type": "code",
   "execution_count": null,
   "id": "a32f70c2-62f5-4478-8943-a77b106efc22",
   "metadata": {},
   "outputs": [],
   "source": []
  }
 ],
 "metadata": {
  "kernelspec": {
   "display_name": "Python 3 (ipykernel)",
   "language": "python",
   "name": "python3"
  },
  "language_info": {
   "codemirror_mode": {
    "name": "ipython",
    "version": 3
   },
   "file_extension": ".py",
   "mimetype": "text/x-python",
   "name": "python",
   "nbconvert_exporter": "python",
   "pygments_lexer": "ipython3",
   "version": "3.12.7"
  }
 },
 "nbformat": 4,
 "nbformat_minor": 5
}
