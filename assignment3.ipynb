{
 "cells": [
  {
   "cell_type": "markdown",
   "id": "e004a2ad-eaca-4ec0-bdc1-fb097055c22d",
   "metadata": {},
   "source": [
    "Q.1:Create a dataset as follow in the table."
   ]
  },
  {
   "cell_type": "code",
   "execution_count": 2,
   "id": "9b61f50b-ec67-4c2f-aa84-45c5f77764a9",
   "metadata": {},
   "outputs": [],
   "source": [
    "import pandas as pd"
   ]
  },
  {
   "cell_type": "code",
   "execution_count": 3,
   "id": "64697d71-417f-4005-a682-ace1c49125e7",
   "metadata": {},
   "outputs": [
    {
     "data": {
      "text/html": [
       "<div>\n",
       "<style scoped>\n",
       "    .dataframe tbody tr th:only-of-type {\n",
       "        vertical-align: middle;\n",
       "    }\n",
       "\n",
       "    .dataframe tbody tr th {\n",
       "        vertical-align: top;\n",
       "    }\n",
       "\n",
       "    .dataframe thead th {\n",
       "        text-align: right;\n",
       "    }\n",
       "</style>\n",
       "<table border=\"1\" class=\"dataframe\">\n",
       "  <thead>\n",
       "    <tr style=\"text-align: right;\">\n",
       "      <th></th>\n",
       "      <th>Tid</th>\n",
       "      <th>Refund</th>\n",
       "      <th>Marital Status</th>\n",
       "      <th>Taxable Income</th>\n",
       "      <th>Cheat</th>\n",
       "    </tr>\n",
       "  </thead>\n",
       "  <tbody>\n",
       "    <tr>\n",
       "      <th>0</th>\n",
       "      <td>1</td>\n",
       "      <td>Yes</td>\n",
       "      <td>Single</td>\n",
       "      <td>125K</td>\n",
       "      <td>No</td>\n",
       "    </tr>\n",
       "    <tr>\n",
       "      <th>1</th>\n",
       "      <td>2</td>\n",
       "      <td>No</td>\n",
       "      <td>Married</td>\n",
       "      <td>100K</td>\n",
       "      <td>No</td>\n",
       "    </tr>\n",
       "    <tr>\n",
       "      <th>2</th>\n",
       "      <td>3</td>\n",
       "      <td>No</td>\n",
       "      <td>Single</td>\n",
       "      <td>70K</td>\n",
       "      <td>No</td>\n",
       "    </tr>\n",
       "    <tr>\n",
       "      <th>3</th>\n",
       "      <td>4</td>\n",
       "      <td>Yes</td>\n",
       "      <td>Married</td>\n",
       "      <td>120K</td>\n",
       "      <td>No</td>\n",
       "    </tr>\n",
       "    <tr>\n",
       "      <th>4</th>\n",
       "      <td>5</td>\n",
       "      <td>No</td>\n",
       "      <td>Divorced</td>\n",
       "      <td>95K</td>\n",
       "      <td>Yes</td>\n",
       "    </tr>\n",
       "    <tr>\n",
       "      <th>5</th>\n",
       "      <td>6</td>\n",
       "      <td>No</td>\n",
       "      <td>Married</td>\n",
       "      <td>60K</td>\n",
       "      <td>No</td>\n",
       "    </tr>\n",
       "    <tr>\n",
       "      <th>6</th>\n",
       "      <td>7</td>\n",
       "      <td>Yes</td>\n",
       "      <td>Divorced</td>\n",
       "      <td>220K</td>\n",
       "      <td>No</td>\n",
       "    </tr>\n",
       "    <tr>\n",
       "      <th>7</th>\n",
       "      <td>8</td>\n",
       "      <td>No</td>\n",
       "      <td>Single</td>\n",
       "      <td>85K</td>\n",
       "      <td>Yes</td>\n",
       "    </tr>\n",
       "    <tr>\n",
       "      <th>8</th>\n",
       "      <td>9</td>\n",
       "      <td>No</td>\n",
       "      <td>Married</td>\n",
       "      <td>75K</td>\n",
       "      <td>No</td>\n",
       "    </tr>\n",
       "    <tr>\n",
       "      <th>9</th>\n",
       "      <td>10</td>\n",
       "      <td>No</td>\n",
       "      <td>Single</td>\n",
       "      <td>90K</td>\n",
       "      <td>Yes</td>\n",
       "    </tr>\n",
       "  </tbody>\n",
       "</table>\n",
       "</div>"
      ],
      "text/plain": [
       "   Tid Refund Marital Status Taxable Income Cheat\n",
       "0    1    Yes         Single           125K    No\n",
       "1    2     No        Married           100K    No\n",
       "2    3     No         Single            70K    No\n",
       "3    4    Yes        Married           120K    No\n",
       "4    5     No       Divorced            95K   Yes\n",
       "5    6     No        Married            60K    No\n",
       "6    7    Yes       Divorced           220K    No\n",
       "7    8     No         Single            85K   Yes\n",
       "8    9     No        Married            75K    No\n",
       "9   10     No         Single            90K   Yes"
      ]
     },
     "execution_count": 3,
     "metadata": {},
     "output_type": "execute_result"
    }
   ],
   "source": [
    "df = pd.DataFrame(\n",
    "{\"Tid\":[x for x in range(1,11)],\n",
    " \"Refund\" : ['Yes','No','No','Yes','No','No','Yes','No','No','No'],\n",
    "\"Marital Status\" : ['Single','Married','Single','Married','Divorced','Married','Divorced','Single','Married','Single'],\n",
    " \"Taxable Income\" : [\"125K\", \"100K\", \"70K\", \"120K\", \"95K\", \"60K\", \"220K\", \"85K\", \"75K\", \"90K\"],\n",
    " \"Cheat\": [\"No\",\"No\",\"No\",\"No\",\"Yes\",\"No\",\"No\",\"Yes\",\"No\",\"Yes\"]\n",
    " },\n",
    "index = [x for x in range(10)])\n",
    "df"
   ]
  },
  {
   "cell_type": "markdown",
   "id": "9370700d-6e3c-44d7-b158-026e0acce789",
   "metadata": {},
   "source": [
    "Q2: From the above table that you have created , locate row 0,4,7,8 using Dataframe"
   ]
  },
  {
   "cell_type": "code",
   "execution_count": 4,
   "id": "27299704-593f-462a-9e6f-ece7c0ffeb9e",
   "metadata": {},
   "outputs": [
    {
     "data": {
      "text/html": [
       "<div>\n",
       "<style scoped>\n",
       "    .dataframe tbody tr th:only-of-type {\n",
       "        vertical-align: middle;\n",
       "    }\n",
       "\n",
       "    .dataframe tbody tr th {\n",
       "        vertical-align: top;\n",
       "    }\n",
       "\n",
       "    .dataframe thead th {\n",
       "        text-align: right;\n",
       "    }\n",
       "</style>\n",
       "<table border=\"1\" class=\"dataframe\">\n",
       "  <thead>\n",
       "    <tr style=\"text-align: right;\">\n",
       "      <th></th>\n",
       "      <th>Tid</th>\n",
       "      <th>Refund</th>\n",
       "      <th>Marital Status</th>\n",
       "      <th>Taxable Income</th>\n",
       "      <th>Cheat</th>\n",
       "    </tr>\n",
       "  </thead>\n",
       "  <tbody>\n",
       "    <tr>\n",
       "      <th>0</th>\n",
       "      <td>1</td>\n",
       "      <td>Yes</td>\n",
       "      <td>Single</td>\n",
       "      <td>125K</td>\n",
       "      <td>No</td>\n",
       "    </tr>\n",
       "    <tr>\n",
       "      <th>4</th>\n",
       "      <td>5</td>\n",
       "      <td>No</td>\n",
       "      <td>Divorced</td>\n",
       "      <td>95K</td>\n",
       "      <td>Yes</td>\n",
       "    </tr>\n",
       "    <tr>\n",
       "      <th>7</th>\n",
       "      <td>8</td>\n",
       "      <td>No</td>\n",
       "      <td>Single</td>\n",
       "      <td>85K</td>\n",
       "      <td>Yes</td>\n",
       "    </tr>\n",
       "    <tr>\n",
       "      <th>8</th>\n",
       "      <td>9</td>\n",
       "      <td>No</td>\n",
       "      <td>Married</td>\n",
       "      <td>75K</td>\n",
       "      <td>No</td>\n",
       "    </tr>\n",
       "  </tbody>\n",
       "</table>\n",
       "</div>"
      ],
      "text/plain": [
       "   Tid Refund Marital Status Taxable Income Cheat\n",
       "0    1    Yes         Single           125K    No\n",
       "4    5     No       Divorced            95K   Yes\n",
       "7    8     No         Single            85K   Yes\n",
       "8    9     No        Married            75K    No"
      ]
     },
     "execution_count": 4,
     "metadata": {},
     "output_type": "execute_result"
    }
   ],
   "source": [
    "df_new = df.iloc[[0,4,7,8]]\n",
    "df_new"
   ]
  },
  {
   "cell_type": "markdown",
   "id": "0bf1e333-2814-4cde-bace-1b25c558b812",
   "metadata": {},
   "source": [
    "Q.3: Navigate the DataFrame and do the following task for the table created in question 1:\n",
    "\n",
    "Select row from index 3 to 7.\n",
    "Select row from index 4 to 8, and column 2 to 4.\n",
    "Select all rows with column index 1 to 3 (include index 3 during selection)."
   ]
  },
  {
   "cell_type": "code",
   "execution_count": 6,
   "id": "942e9bdb-4d85-4970-9cf3-4b2151846b51",
   "metadata": {},
   "outputs": [
    {
     "data": {
      "text/html": [
       "<div>\n",
       "<style scoped>\n",
       "    .dataframe tbody tr th:only-of-type {\n",
       "        vertical-align: middle;\n",
       "    }\n",
       "\n",
       "    .dataframe tbody tr th {\n",
       "        vertical-align: top;\n",
       "    }\n",
       "\n",
       "    .dataframe thead th {\n",
       "        text-align: right;\n",
       "    }\n",
       "</style>\n",
       "<table border=\"1\" class=\"dataframe\">\n",
       "  <thead>\n",
       "    <tr style=\"text-align: right;\">\n",
       "      <th></th>\n",
       "      <th>Marital Status</th>\n",
       "      <th>Taxable Income</th>\n",
       "    </tr>\n",
       "  </thead>\n",
       "  <tbody>\n",
       "    <tr>\n",
       "      <th>4</th>\n",
       "      <td>Divorced</td>\n",
       "      <td>95K</td>\n",
       "    </tr>\n",
       "    <tr>\n",
       "      <th>5</th>\n",
       "      <td>Married</td>\n",
       "      <td>60K</td>\n",
       "    </tr>\n",
       "    <tr>\n",
       "      <th>6</th>\n",
       "      <td>Divorced</td>\n",
       "      <td>220K</td>\n",
       "    </tr>\n",
       "    <tr>\n",
       "      <th>7</th>\n",
       "      <td>Single</td>\n",
       "      <td>85K</td>\n",
       "    </tr>\n",
       "  </tbody>\n",
       "</table>\n",
       "</div>"
      ],
      "text/plain": [
       "  Marital Status Taxable Income\n",
       "4       Divorced            95K\n",
       "5        Married            60K\n",
       "6       Divorced           220K\n",
       "7         Single            85K"
      ]
     },
     "execution_count": 6,
     "metadata": {},
     "output_type": "execute_result"
    }
   ],
   "source": [
    "df_new = df.iloc[4:8,2:4]\n",
    "df_new     "
   ]
  },
  {
   "cell_type": "code",
   "execution_count": 7,
   "id": "ddf1f4d8-5537-4125-8da5-9ac5677e6aee",
   "metadata": {},
   "outputs": [
    {
     "data": {
      "text/html": [
       "<div>\n",
       "<style scoped>\n",
       "    .dataframe tbody tr th:only-of-type {\n",
       "        vertical-align: middle;\n",
       "    }\n",
       "\n",
       "    .dataframe tbody tr th {\n",
       "        vertical-align: top;\n",
       "    }\n",
       "\n",
       "    .dataframe thead th {\n",
       "        text-align: right;\n",
       "    }\n",
       "</style>\n",
       "<table border=\"1\" class=\"dataframe\">\n",
       "  <thead>\n",
       "    <tr style=\"text-align: right;\">\n",
       "      <th></th>\n",
       "      <th>Refund</th>\n",
       "      <th>Marital Status</th>\n",
       "      <th>Taxable Income</th>\n",
       "    </tr>\n",
       "  </thead>\n",
       "  <tbody>\n",
       "    <tr>\n",
       "      <th>1</th>\n",
       "      <td>No</td>\n",
       "      <td>Married</td>\n",
       "      <td>100K</td>\n",
       "    </tr>\n",
       "    <tr>\n",
       "      <th>2</th>\n",
       "      <td>No</td>\n",
       "      <td>Single</td>\n",
       "      <td>70K</td>\n",
       "    </tr>\n",
       "    <tr>\n",
       "      <th>3</th>\n",
       "      <td>Yes</td>\n",
       "      <td>Married</td>\n",
       "      <td>120K</td>\n",
       "    </tr>\n",
       "  </tbody>\n",
       "</table>\n",
       "</div>"
      ],
      "text/plain": [
       "  Refund Marital Status Taxable Income\n",
       "1     No        Married           100K\n",
       "2     No         Single            70K\n",
       "3    Yes        Married           120K"
      ]
     },
     "execution_count": 7,
     "metadata": {},
     "output_type": "execute_result"
    }
   ],
   "source": [
    "df_new = df.iloc[1:4,1:4]\n",
    "df_new"
   ]
  },
  {
   "cell_type": "markdown",
   "id": "1ecd820e-5cbe-41d4-92b2-9a974ddbad88",
   "metadata": {},
   "source": [
    "Q.4: Read a csv file and display its first five rows."
   ]
  },
  {
   "cell_type": "code",
   "execution_count": 8,
   "id": "8195c430-ee18-4654-ac52-076cf87e6db7",
   "metadata": {},
   "outputs": [
    {
     "data": {
      "text/html": [
       "<div>\n",
       "<style scoped>\n",
       "    .dataframe tbody tr th:only-of-type {\n",
       "        vertical-align: middle;\n",
       "    }\n",
       "\n",
       "    .dataframe tbody tr th {\n",
       "        vertical-align: top;\n",
       "    }\n",
       "\n",
       "    .dataframe thead th {\n",
       "        text-align: right;\n",
       "    }\n",
       "</style>\n",
       "<table border=\"1\" class=\"dataframe\">\n",
       "  <thead>\n",
       "    <tr style=\"text-align: right;\">\n",
       "      <th></th>\n",
       "      <th>SepalLength</th>\n",
       "      <th>SepalWidth</th>\n",
       "      <th>PetalLength</th>\n",
       "      <th>PetalWidth</th>\n",
       "      <th>Class</th>\n",
       "    </tr>\n",
       "  </thead>\n",
       "  <tbody>\n",
       "    <tr>\n",
       "      <th>0</th>\n",
       "      <td>5.1</td>\n",
       "      <td>3.5</td>\n",
       "      <td>1.4</td>\n",
       "      <td>0.2</td>\n",
       "      <td>Iris-setosa</td>\n",
       "    </tr>\n",
       "    <tr>\n",
       "      <th>1</th>\n",
       "      <td>4.9</td>\n",
       "      <td>3.0</td>\n",
       "      <td>1.4</td>\n",
       "      <td>0.2</td>\n",
       "      <td>Iris-setosa</td>\n",
       "    </tr>\n",
       "    <tr>\n",
       "      <th>2</th>\n",
       "      <td>4.7</td>\n",
       "      <td>3.2</td>\n",
       "      <td>1.3</td>\n",
       "      <td>0.2</td>\n",
       "      <td>Iris-setosa</td>\n",
       "    </tr>\n",
       "    <tr>\n",
       "      <th>3</th>\n",
       "      <td>4.6</td>\n",
       "      <td>3.1</td>\n",
       "      <td>1.5</td>\n",
       "      <td>0.2</td>\n",
       "      <td>Iris-setosa</td>\n",
       "    </tr>\n",
       "    <tr>\n",
       "      <th>4</th>\n",
       "      <td>5.0</td>\n",
       "      <td>3.6</td>\n",
       "      <td>1.4</td>\n",
       "      <td>0.2</td>\n",
       "      <td>Iris-setosa</td>\n",
       "    </tr>\n",
       "  </tbody>\n",
       "</table>\n",
       "</div>"
      ],
      "text/plain": [
       "   SepalLength  SepalWidth  PetalLength  PetalWidth        Class\n",
       "0          5.1         3.5          1.4         0.2  Iris-setosa\n",
       "1          4.9         3.0          1.4         0.2  Iris-setosa\n",
       "2          4.7         3.2          1.3         0.2  Iris-setosa\n",
       "3          4.6         3.1          1.5         0.2  Iris-setosa\n",
       "4          5.0         3.6          1.4         0.2  Iris-setosa"
      ]
     },
     "execution_count": 8,
     "metadata": {},
     "output_type": "execute_result"
    }
   ],
   "source": [
    "iris_url = \"https://archive.ics.uci.edu/ml/machine-learning-databases/iris/iris.data\"\n",
    "iris_col = [\"SepalLength\", \"SepalWidth\", \"PetalLength\", \"PetalWidth\", \"Class\"]\n",
    "iris_df = pd.read_csv(iris_url, names=iris_col)\n",
    "iris_df.head()     "
   ]
  },
  {
   "cell_type": "markdown",
   "id": "6f236220-0e2a-46e5-b970-975416a15d7f",
   "metadata": {},
   "source": [
    "Q.5 From the csv file (uploaded in the Q.4) delete row 4, and delete column 3."
   ]
  },
  {
   "cell_type": "code",
   "execution_count": 9,
   "id": "ecaddd48-a02b-4388-ab35-349f0b120dcd",
   "metadata": {},
   "outputs": [
    {
     "data": {
      "text/html": [
       "<div>\n",
       "<style scoped>\n",
       "    .dataframe tbody tr th:only-of-type {\n",
       "        vertical-align: middle;\n",
       "    }\n",
       "\n",
       "    .dataframe tbody tr th {\n",
       "        vertical-align: top;\n",
       "    }\n",
       "\n",
       "    .dataframe thead th {\n",
       "        text-align: right;\n",
       "    }\n",
       "</style>\n",
       "<table border=\"1\" class=\"dataframe\">\n",
       "  <thead>\n",
       "    <tr style=\"text-align: right;\">\n",
       "      <th></th>\n",
       "      <th>SepalLength</th>\n",
       "      <th>SepalWidth</th>\n",
       "      <th>PetalWidth</th>\n",
       "      <th>Class</th>\n",
       "    </tr>\n",
       "  </thead>\n",
       "  <tbody>\n",
       "    <tr>\n",
       "      <th>0</th>\n",
       "      <td>5.1</td>\n",
       "      <td>3.5</td>\n",
       "      <td>0.2</td>\n",
       "      <td>Iris-setosa</td>\n",
       "    </tr>\n",
       "    <tr>\n",
       "      <th>1</th>\n",
       "      <td>4.9</td>\n",
       "      <td>3.0</td>\n",
       "      <td>0.2</td>\n",
       "      <td>Iris-setosa</td>\n",
       "    </tr>\n",
       "    <tr>\n",
       "      <th>2</th>\n",
       "      <td>4.7</td>\n",
       "      <td>3.2</td>\n",
       "      <td>0.2</td>\n",
       "      <td>Iris-setosa</td>\n",
       "    </tr>\n",
       "    <tr>\n",
       "      <th>3</th>\n",
       "      <td>4.6</td>\n",
       "      <td>3.1</td>\n",
       "      <td>0.2</td>\n",
       "      <td>Iris-setosa</td>\n",
       "    </tr>\n",
       "    <tr>\n",
       "      <th>5</th>\n",
       "      <td>5.4</td>\n",
       "      <td>3.9</td>\n",
       "      <td>0.4</td>\n",
       "      <td>Iris-setosa</td>\n",
       "    </tr>\n",
       "  </tbody>\n",
       "</table>\n",
       "</div>"
      ],
      "text/plain": [
       "   SepalLength  SepalWidth  PetalWidth        Class\n",
       "0          5.1         3.5         0.2  Iris-setosa\n",
       "1          4.9         3.0         0.2  Iris-setosa\n",
       "2          4.7         3.2         0.2  Iris-setosa\n",
       "3          4.6         3.1         0.2  Iris-setosa\n",
       "5          5.4         3.9         0.4  Iris-setosa"
      ]
     },
     "execution_count": 9,
     "metadata": {},
     "output_type": "execute_result"
    }
   ],
   "source": [
    "iris_df_new = iris_df.drop(index=4, columns=\"PetalLength\")\n",
    "iris_df_new.head()"
   ]
  },
  {
   "cell_type": "markdown",
   "id": "4a07771e-a48c-429b-91f3-56516ea98a7e",
   "metadata": {},
   "source": [
    "Q6: Create a sample dataset (employees.csv) containing information about employees in a company."
   ]
  },
  {
   "cell_type": "code",
   "execution_count": 10,
   "id": "9f075a71-376f-40f6-a9a7-544a2547deff",
   "metadata": {},
   "outputs": [
    {
     "data": {
      "text/html": [
       "<div>\n",
       "<style scoped>\n",
       "    .dataframe tbody tr th:only-of-type {\n",
       "        vertical-align: middle;\n",
       "    }\n",
       "\n",
       "    .dataframe tbody tr th {\n",
       "        vertical-align: top;\n",
       "    }\n",
       "\n",
       "    .dataframe thead th {\n",
       "        text-align: right;\n",
       "    }\n",
       "</style>\n",
       "<table border=\"1\" class=\"dataframe\">\n",
       "  <thead>\n",
       "    <tr style=\"text-align: right;\">\n",
       "      <th></th>\n",
       "      <th>Employee Id</th>\n",
       "      <th>Name</th>\n",
       "      <th>Department</th>\n",
       "      <th>Age</th>\n",
       "      <th>Salary</th>\n",
       "      <th>Years_of_Experience</th>\n",
       "      <th>Joining_Date</th>\n",
       "      <th>Gender</th>\n",
       "      <th>Bonus</th>\n",
       "      <th>Rating</th>\n",
       "    </tr>\n",
       "  </thead>\n",
       "  <tbody>\n",
       "    <tr>\n",
       "      <th>0</th>\n",
       "      <td>101</td>\n",
       "      <td>Alice</td>\n",
       "      <td>HR</td>\n",
       "      <td>29</td>\n",
       "      <td>50000</td>\n",
       "      <td>4</td>\n",
       "      <td>2020-03-15</td>\n",
       "      <td>Female</td>\n",
       "      <td>5000</td>\n",
       "      <td>4.5</td>\n",
       "    </tr>\n",
       "    <tr>\n",
       "      <th>1</th>\n",
       "      <td>102</td>\n",
       "      <td>Bob</td>\n",
       "      <td>IT</td>\n",
       "      <td>34</td>\n",
       "      <td>70000</td>\n",
       "      <td>8</td>\n",
       "      <td>2017-07-19</td>\n",
       "      <td>Male</td>\n",
       "      <td>7000</td>\n",
       "      <td>4.0</td>\n",
       "    </tr>\n",
       "    <tr>\n",
       "      <th>2</th>\n",
       "      <td>103</td>\n",
       "      <td>Charlie</td>\n",
       "      <td>IT</td>\n",
       "      <td>41</td>\n",
       "      <td>65000</td>\n",
       "      <td>10</td>\n",
       "      <td>2013-06-01</td>\n",
       "      <td>Male</td>\n",
       "      <td>6000</td>\n",
       "      <td>3.8</td>\n",
       "    </tr>\n",
       "    <tr>\n",
       "      <th>3</th>\n",
       "      <td>104</td>\n",
       "      <td>Diana</td>\n",
       "      <td>Marketing</td>\n",
       "      <td>28</td>\n",
       "      <td>55000</td>\n",
       "      <td>3</td>\n",
       "      <td>2021-02-10</td>\n",
       "      <td>Female</td>\n",
       "      <td>4500</td>\n",
       "      <td>4.7</td>\n",
       "    </tr>\n",
       "    <tr>\n",
       "      <th>4</th>\n",
       "      <td>105</td>\n",
       "      <td>Edward</td>\n",
       "      <td>Sales</td>\n",
       "      <td>38</td>\n",
       "      <td>60000</td>\n",
       "      <td>12</td>\n",
       "      <td>2010-11-25</td>\n",
       "      <td>Male</td>\n",
       "      <td>5000</td>\n",
       "      <td>3.5</td>\n",
       "    </tr>\n",
       "  </tbody>\n",
       "</table>\n",
       "</div>"
      ],
      "text/plain": [
       "   Employee Id     Name Department  Age  Salary  Years_of_Experience  \\\n",
       "0          101    Alice         HR   29   50000                    4   \n",
       "1          102      Bob         IT   34   70000                    8   \n",
       "2          103  Charlie         IT   41   65000                   10   \n",
       "3          104    Diana  Marketing   28   55000                    3   \n",
       "4          105   Edward      Sales   38   60000                   12   \n",
       "\n",
       "  Joining_Date  Gender  Bonus  Rating  \n",
       "0   2020-03-15  Female   5000     4.5  \n",
       "1   2017-07-19    Male   7000     4.0  \n",
       "2   2013-06-01    Male   6000     3.8  \n",
       "3   2021-02-10  Female   4500     4.7  \n",
       "4   2010-11-25    Male   5000     3.5  "
      ]
     },
     "execution_count": 10,
     "metadata": {},
     "output_type": "execute_result"
    }
   ],
   "source": [
    "data = {\n",
    "    \"Employee Id\": list(range(101,106)),\n",
    "    \"Name\":[\"Alice\",\"Bob\",\"Charlie\",\"Diana\",\"Edward\"],\n",
    "    \"Department\": [\"HR\", \"IT\", \"IT\", \"Marketing\", \"Sales\"],\n",
    "    \"Age\":[29,34,41,28,38],\n",
    "    \"Salary\": [50000, 70000, 65000, 55000, 60000],\n",
    "    \"Years_of_Experience\": [4, 8, 10,3, 12],\n",
    "    \"Joining_Date\":[\"2020-03-15\",\"2017-07-19\", \"2013-06-01\", \"2021-02-10\", \"2010-11-25\"],\n",
    "    \"Gender\": [\"Female\", \"Male\",\"Male\",\"Female\",\"Male\"],\n",
    "    \"Bonus\":[5000, 7000, 6000, 4500, 5000],\n",
    "    \"Rating\":[4.5, 4.0, 3.8, 4.7, 3.5]\n",
    "}\n",
    "df_N = pd.DataFrame(data)\n",
    "df_N   "
   ]
  },
  {
   "cell_type": "markdown",
   "id": "1012e341-2b23-4b5d-bcec-a8010a3d8c83",
   "metadata": {},
   "source": [
    "a) Shape (number of rows and columns) of the DataFrame."
   ]
  },
  {
   "cell_type": "code",
   "execution_count": 11,
   "id": "d4450177-df08-4a44-94bd-1559fd0a50dc",
   "metadata": {},
   "outputs": [
    {
     "name": "stdout",
     "output_type": "stream",
     "text": [
      "rows=5, columns=10\n"
     ]
    }
   ],
   "source": [
    "x,y = df_N.shape\n",
    "print(f\"rows={x}, columns={y}\")"
   ]
  },
  {
   "cell_type": "markdown",
   "id": "71609a66-9704-45a4-b0d2-2bdfd4d68273",
   "metadata": {},
   "source": [
    "b) Summary of the DataFrame that includes the data types and non-null counts for each column."
   ]
  },
  {
   "cell_type": "code",
   "execution_count": 12,
   "id": "afbc13bc-bf09-4bc1-b62b-cd0f2384d943",
   "metadata": {},
   "outputs": [
    {
     "name": "stdout",
     "output_type": "stream",
     "text": [
      "<class 'pandas.core.frame.DataFrame'>\n",
      "RangeIndex: 5 entries, 0 to 4\n",
      "Data columns (total 10 columns):\n",
      " #   Column               Non-Null Count  Dtype  \n",
      "---  ------               --------------  -----  \n",
      " 0   Employee Id          5 non-null      int64  \n",
      " 1   Name                 5 non-null      object \n",
      " 2   Department           5 non-null      object \n",
      " 3   Age                  5 non-null      int64  \n",
      " 4   Salary               5 non-null      int64  \n",
      " 5   Years_of_Experience  5 non-null      int64  \n",
      " 6   Joining_Date         5 non-null      object \n",
      " 7   Gender               5 non-null      object \n",
      " 8   Bonus                5 non-null      int64  \n",
      " 9   Rating               5 non-null      float64\n",
      "dtypes: float64(1), int64(5), object(4)\n",
      "memory usage: 532.0+ bytes\n",
      "None\n"
     ]
    }
   ],
   "source": [
    "print(df_N.info())"
   ]
  },
  {
   "cell_type": "markdown",
   "id": "5119ffad-c62f-414a-ab26-194fe6d1cb67",
   "metadata": {},
   "source": [
    "c) Generate descriptive statistics."
   ]
  },
  {
   "cell_type": "code",
   "execution_count": 13,
   "id": "bb4be1ca-94ea-443f-937f-f3fe3b6eea1d",
   "metadata": {},
   "outputs": [
    {
     "name": "stdout",
     "output_type": "stream",
     "text": [
      "       Employee Id        Age       Salary  Years_of_Experience   Bonus  \\\n",
      "count     5.000000   5.000000      5.00000             5.000000     5.0   \n",
      "mean    103.000000  34.000000  60000.00000             7.400000  5500.0   \n",
      "std       1.581139   5.612486   7905.69415             3.847077  1000.0   \n",
      "min     101.000000  28.000000  50000.00000             3.000000  4500.0   \n",
      "25%     102.000000  29.000000  55000.00000             4.000000  5000.0   \n",
      "50%     103.000000  34.000000  60000.00000             8.000000  5000.0   \n",
      "75%     104.000000  38.000000  65000.00000            10.000000  6000.0   \n",
      "max     105.000000  41.000000  70000.00000            12.000000  7000.0   \n",
      "\n",
      "         Rating  \n",
      "count  5.000000  \n",
      "mean   4.100000  \n",
      "std    0.494975  \n",
      "min    3.500000  \n",
      "25%    3.800000  \n",
      "50%    4.000000  \n",
      "75%    4.500000  \n",
      "max    4.700000   \n",
      "\n"
     ]
    }
   ],
   "source": [
    "print(df_N.describe(), \"\\n\")"
   ]
  },
  {
   "cell_type": "markdown",
   "id": "ed4791cd-0619-42e7-83d8-1dd1b35759f5",
   "metadata": {},
   "source": [
    "d) Display the first 5 rows and last 3 rows of the dataset."
   ]
  },
  {
   "cell_type": "code",
   "execution_count": 14,
   "id": "f737b9f7-0e02-4e57-a2e7-0309b036f653",
   "metadata": {},
   "outputs": [
    {
     "name": "stdout",
     "output_type": "stream",
     "text": [
      "   Employee Id     Name Department  Age  Salary  Years_of_Experience  \\\n",
      "0          101    Alice         HR   29   50000                    4   \n",
      "1          102      Bob         IT   34   70000                    8   \n",
      "2          103  Charlie         IT   41   65000                   10   \n",
      "3          104    Diana  Marketing   28   55000                    3   \n",
      "4          105   Edward      Sales   38   60000                   12   \n",
      "\n",
      "  Joining_Date  Gender  Bonus  Rating  \n",
      "0   2020-03-15  Female   5000     4.5  \n",
      "1   2017-07-19    Male   7000     4.0  \n",
      "2   2013-06-01    Male   6000     3.8  \n",
      "3   2021-02-10  Female   4500     4.7  \n",
      "4   2010-11-25    Male   5000     3.5  \n",
      "\n",
      "\n",
      "   Employee Id     Name Department  Age  Salary  Years_of_Experience  \\\n",
      "2          103  Charlie         IT   41   65000                   10   \n",
      "3          104    Diana  Marketing   28   55000                    3   \n",
      "4          105   Edward      Sales   38   60000                   12   \n",
      "\n",
      "  Joining_Date  Gender  Bonus  Rating  \n",
      "2   2013-06-01    Male   6000     3.8  \n",
      "3   2021-02-10  Female   4500     4.7  \n",
      "4   2010-11-25    Male   5000     3.5  \n"
     ]
    }
   ],
   "source": [
    "print(df_N.head())\n",
    "print(\"\\n\")\n",
    "print(df_N.tail(3))"
   ]
  },
  {
   "cell_type": "markdown",
   "id": "535c062e-0e56-4d20-ad3b-723e933882bf",
   "metadata": {},
   "source": [
    "e) Calculate the following statistics from the dataset:\n",
    "\n",
    "i. The average salary of employees.\n",
    "\n",
    "ii. The total bonus paid to all employees.\n",
    "\n",
    "iii. The youngest employee's age.\n",
    "\n",
    "iv. The highest performance rating."
   ]
  },
  {
   "cell_type": "code",
   "execution_count": 15,
   "id": "10f51725-7df1-4cee-b91f-e99a5649f6a0",
   "metadata": {},
   "outputs": [
    {
     "name": "stdout",
     "output_type": "stream",
     "text": [
      "60000.0\n",
      "27500\n",
      "28\n",
      "4.7\n"
     ]
    }
   ],
   "source": [
    "print(df_N['Salary'].mean())\n",
    "print(df_N['Bonus'].sum())\n",
    "print(df_N['Age'].min())\n",
    "print(df_N['Rating'].max())"
   ]
  },
  {
   "cell_type": "markdown",
   "id": "7e7c0e8f-2142-462f-8ddc-5c49798812cb",
   "metadata": {},
   "source": [
    "f) Sort the DataFrame by the Salary column in descending order."
   ]
  },
  {
   "cell_type": "code",
   "execution_count": 16,
   "id": "38d2eee7-3016-41b2-a01f-45c84217a60e",
   "metadata": {},
   "outputs": [
    {
     "data": {
      "text/plain": [
       "1    70000\n",
       "2    65000\n",
       "4    60000\n",
       "3    55000\n",
       "0    50000\n",
       "Name: Salary, dtype: int64"
      ]
     },
     "execution_count": 16,
     "metadata": {},
     "output_type": "execute_result"
    }
   ],
   "source": [
    "df_N['Salary'].sort_values(ascending=False)"
   ]
  },
  {
   "cell_type": "markdown",
   "id": "3e960237-a755-4ca5-a929-0bc6e52b769d",
   "metadata": {},
   "source": [
    "g) Add a new column that categorizes employees based on their performance rating:\n",
    "\n",
    "i. Excellent for ratings >= 4.5\n",
    "\n",
    "ii. Good for ratings >= 4.0 but < 4.5\n",
    "\n",
    "iii. Average for ratings < 4.0"
   ]
  },
  {
   "cell_type": "code",
   "execution_count": 17,
   "id": "090f8fa7-4326-4dc3-9974-c3e164a88b35",
   "metadata": {},
   "outputs": [
    {
     "data": {
      "text/html": [
       "<div>\n",
       "<style scoped>\n",
       "    .dataframe tbody tr th:only-of-type {\n",
       "        vertical-align: middle;\n",
       "    }\n",
       "\n",
       "    .dataframe tbody tr th {\n",
       "        vertical-align: top;\n",
       "    }\n",
       "\n",
       "    .dataframe thead th {\n",
       "        text-align: right;\n",
       "    }\n",
       "</style>\n",
       "<table border=\"1\" class=\"dataframe\">\n",
       "  <thead>\n",
       "    <tr style=\"text-align: right;\">\n",
       "      <th></th>\n",
       "      <th>Employee Id</th>\n",
       "      <th>Name</th>\n",
       "      <th>Department</th>\n",
       "      <th>Age</th>\n",
       "      <th>Salary</th>\n",
       "      <th>Years_of_Experience</th>\n",
       "      <th>Joining_Date</th>\n",
       "      <th>Gender</th>\n",
       "      <th>Bonus</th>\n",
       "      <th>Rating</th>\n",
       "      <th>Performance</th>\n",
       "    </tr>\n",
       "  </thead>\n",
       "  <tbody>\n",
       "    <tr>\n",
       "      <th>0</th>\n",
       "      <td>101</td>\n",
       "      <td>Alice</td>\n",
       "      <td>HR</td>\n",
       "      <td>29</td>\n",
       "      <td>50000</td>\n",
       "      <td>4</td>\n",
       "      <td>2020-03-15</td>\n",
       "      <td>Female</td>\n",
       "      <td>5000</td>\n",
       "      <td>4.5</td>\n",
       "      <td>Excellent</td>\n",
       "    </tr>\n",
       "    <tr>\n",
       "      <th>1</th>\n",
       "      <td>102</td>\n",
       "      <td>Bob</td>\n",
       "      <td>IT</td>\n",
       "      <td>34</td>\n",
       "      <td>70000</td>\n",
       "      <td>8</td>\n",
       "      <td>2017-07-19</td>\n",
       "      <td>Male</td>\n",
       "      <td>7000</td>\n",
       "      <td>4.0</td>\n",
       "      <td>Good</td>\n",
       "    </tr>\n",
       "    <tr>\n",
       "      <th>2</th>\n",
       "      <td>103</td>\n",
       "      <td>Charlie</td>\n",
       "      <td>IT</td>\n",
       "      <td>41</td>\n",
       "      <td>65000</td>\n",
       "      <td>10</td>\n",
       "      <td>2013-06-01</td>\n",
       "      <td>Male</td>\n",
       "      <td>6000</td>\n",
       "      <td>3.8</td>\n",
       "      <td>Average</td>\n",
       "    </tr>\n",
       "    <tr>\n",
       "      <th>3</th>\n",
       "      <td>104</td>\n",
       "      <td>Diana</td>\n",
       "      <td>Marketing</td>\n",
       "      <td>28</td>\n",
       "      <td>55000</td>\n",
       "      <td>3</td>\n",
       "      <td>2021-02-10</td>\n",
       "      <td>Female</td>\n",
       "      <td>4500</td>\n",
       "      <td>4.7</td>\n",
       "      <td>Excellent</td>\n",
       "    </tr>\n",
       "    <tr>\n",
       "      <th>4</th>\n",
       "      <td>105</td>\n",
       "      <td>Edward</td>\n",
       "      <td>Sales</td>\n",
       "      <td>38</td>\n",
       "      <td>60000</td>\n",
       "      <td>12</td>\n",
       "      <td>2010-11-25</td>\n",
       "      <td>Male</td>\n",
       "      <td>5000</td>\n",
       "      <td>3.5</td>\n",
       "      <td>Average</td>\n",
       "    </tr>\n",
       "  </tbody>\n",
       "</table>\n",
       "</div>"
      ],
      "text/plain": [
       "   Employee Id     Name Department  Age  Salary  Years_of_Experience  \\\n",
       "0          101    Alice         HR   29   50000                    4   \n",
       "1          102      Bob         IT   34   70000                    8   \n",
       "2          103  Charlie         IT   41   65000                   10   \n",
       "3          104    Diana  Marketing   28   55000                    3   \n",
       "4          105   Edward      Sales   38   60000                   12   \n",
       "\n",
       "  Joining_Date  Gender  Bonus  Rating Performance  \n",
       "0   2020-03-15  Female   5000     4.5   Excellent  \n",
       "1   2017-07-19    Male   7000     4.0        Good  \n",
       "2   2013-06-01    Male   6000     3.8     Average  \n",
       "3   2021-02-10  Female   4500     4.7   Excellent  \n",
       "4   2010-11-25    Male   5000     3.5     Average  "
      ]
     },
     "execution_count": 17,
     "metadata": {},
     "output_type": "execute_result"
    }
   ],
   "source": [
    "df_N[\"Performance\"] = [\"Excellent\" if r>=4.5 else \"Good\" if 4.0<=r <4.5 else \"Average\" for r in df_N['Rating']]\n",
    "df_N"
   ]
  },
  {
   "cell_type": "markdown",
   "id": "2eef9263-20f5-4890-874e-80e94a0ac4a0",
   "metadata": {},
   "source": [
    "h) Identify missing values in the DataFrame."
   ]
  },
  {
   "cell_type": "code",
   "execution_count": 18,
   "id": "959501ee-1ad8-4745-ae32-dc7df59d7227",
   "metadata": {},
   "outputs": [
    {
     "name": "stdout",
     "output_type": "stream",
     "text": [
      "   Employee Id   Name  Department    Age  Salary  Years_of_Experience  \\\n",
      "0        False  False       False  False   False                False   \n",
      "1        False  False       False  False   False                False   \n",
      "2        False  False       False  False   False                False   \n",
      "3        False  False       False  False   False                False   \n",
      "4        False  False       False  False   False                False   \n",
      "\n",
      "   Joining_Date  Gender  Bonus  Rating  Performance  \n",
      "0         False   False  False   False        False  \n",
      "1         False   False  False   False        False  \n",
      "2         False   False  False   False        False  \n",
      "3         False   False  False   False        False  \n",
      "4         False   False  False   False        False  \n",
      "\n",
      "\n",
      "Employee Id            0\n",
      "Name                   0\n",
      "Department             0\n",
      "Age                    0\n",
      "Salary                 0\n",
      "Years_of_Experience    0\n",
      "Joining_Date           0\n",
      "Gender                 0\n",
      "Bonus                  0\n",
      "Rating                 0\n",
      "Performance            0\n",
      "dtype: int64\n"
     ]
    }
   ],
   "source": [
    "missing = df_N.isnull()\n",
    "print(missing)\n",
    "print(\"\\n\")\n",
    "missV =df_N.isnull().sum()\n",
    "print(missV)\n"
   ]
  },
  {
   "cell_type": "markdown",
   "id": "d5496f67-6f33-44da-b4fe-fa3e1d52d01f",
   "metadata": {},
   "source": [
    "i) Rename the Employee_ID column to ID."
   ]
  },
  {
   "cell_type": "markdown",
   "id": "aedcdbf9-b5ce-4d06-8056-120c05869600",
   "metadata": {},
   "source": [
    "j) Find all employees who:\n",
    "\n",
    "i. Have more than 5 years of experience.\n",
    "\n",
    "ii. Belong to the IT department."
   ]
  },
  {
   "cell_type": "code",
   "execution_count": 19,
   "id": "92728224-4977-464d-b37c-ad8ada0769bd",
   "metadata": {},
   "outputs": [
    {
     "name": "stdout",
     "output_type": "stream",
     "text": [
      "   Employee Id     Name Department  Age  Salary  Years_of_Experience  \\\n",
      "1          102      Bob         IT   34   70000                    8   \n",
      "2          103  Charlie         IT   41   65000                   10   \n",
      "4          105   Edward      Sales   38   60000                   12   \n",
      "\n",
      "  Joining_Date Gender  Bonus  Rating Performance  \n",
      "1   2017-07-19   Male   7000     4.0        Good  \n",
      "2   2013-06-01   Male   6000     3.8     Average  \n",
      "4   2010-11-25   Male   5000     3.5     Average  \n",
      "\n",
      "\n",
      "   Employee Id     Name Department  Age  Salary  Years_of_Experience  \\\n",
      "1          102      Bob         IT   34   70000                    8   \n",
      "2          103  Charlie         IT   41   65000                   10   \n",
      "\n",
      "  Joining_Date Gender  Bonus  Rating Performance  \n",
      "1   2017-07-19   Male   7000     4.0        Good  \n",
      "2   2013-06-01   Male   6000     3.8     Average  \n"
     ]
    }
   ],
   "source": [
    "print(df_N[df_N[\"Years_of_Experience\"]>5])\n",
    "print(\"\\n\")\n",
    "print(df_N[df_N[\"Department\"] == \"IT\"])\n",
    "     "
   ]
  },
  {
   "cell_type": "markdown",
   "id": "98daafbf-d693-4c53-8f95-077eaa256374",
   "metadata": {},
   "source": [
    "k) Modify the dataset by adding a new column, Tax, which deducts 10% of the Salary."
   ]
  },
  {
   "cell_type": "code",
   "execution_count": 20,
   "id": "4bfd7550-b15f-4814-b3eb-3d2e4054bb88",
   "metadata": {},
   "outputs": [
    {
     "data": {
      "text/html": [
       "<div>\n",
       "<style scoped>\n",
       "    .dataframe tbody tr th:only-of-type {\n",
       "        vertical-align: middle;\n",
       "    }\n",
       "\n",
       "    .dataframe tbody tr th {\n",
       "        vertical-align: top;\n",
       "    }\n",
       "\n",
       "    .dataframe thead th {\n",
       "        text-align: right;\n",
       "    }\n",
       "</style>\n",
       "<table border=\"1\" class=\"dataframe\">\n",
       "  <thead>\n",
       "    <tr style=\"text-align: right;\">\n",
       "      <th></th>\n",
       "      <th>Employee Id</th>\n",
       "      <th>Name</th>\n",
       "      <th>Department</th>\n",
       "      <th>Age</th>\n",
       "      <th>Salary</th>\n",
       "      <th>Years_of_Experience</th>\n",
       "      <th>Joining_Date</th>\n",
       "      <th>Gender</th>\n",
       "      <th>Bonus</th>\n",
       "      <th>Rating</th>\n",
       "      <th>Performance</th>\n",
       "      <th>Tax</th>\n",
       "    </tr>\n",
       "  </thead>\n",
       "  <tbody>\n",
       "    <tr>\n",
       "      <th>0</th>\n",
       "      <td>101</td>\n",
       "      <td>Alice</td>\n",
       "      <td>HR</td>\n",
       "      <td>29</td>\n",
       "      <td>50000</td>\n",
       "      <td>4</td>\n",
       "      <td>2020-03-15</td>\n",
       "      <td>Female</td>\n",
       "      <td>5000</td>\n",
       "      <td>4.5</td>\n",
       "      <td>Excellent</td>\n",
       "      <td>5000.0</td>\n",
       "    </tr>\n",
       "    <tr>\n",
       "      <th>1</th>\n",
       "      <td>102</td>\n",
       "      <td>Bob</td>\n",
       "      <td>IT</td>\n",
       "      <td>34</td>\n",
       "      <td>70000</td>\n",
       "      <td>8</td>\n",
       "      <td>2017-07-19</td>\n",
       "      <td>Male</td>\n",
       "      <td>7000</td>\n",
       "      <td>4.0</td>\n",
       "      <td>Good</td>\n",
       "      <td>7000.0</td>\n",
       "    </tr>\n",
       "    <tr>\n",
       "      <th>2</th>\n",
       "      <td>103</td>\n",
       "      <td>Charlie</td>\n",
       "      <td>IT</td>\n",
       "      <td>41</td>\n",
       "      <td>65000</td>\n",
       "      <td>10</td>\n",
       "      <td>2013-06-01</td>\n",
       "      <td>Male</td>\n",
       "      <td>6000</td>\n",
       "      <td>3.8</td>\n",
       "      <td>Average</td>\n",
       "      <td>6500.0</td>\n",
       "    </tr>\n",
       "    <tr>\n",
       "      <th>3</th>\n",
       "      <td>104</td>\n",
       "      <td>Diana</td>\n",
       "      <td>Marketing</td>\n",
       "      <td>28</td>\n",
       "      <td>55000</td>\n",
       "      <td>3</td>\n",
       "      <td>2021-02-10</td>\n",
       "      <td>Female</td>\n",
       "      <td>4500</td>\n",
       "      <td>4.7</td>\n",
       "      <td>Excellent</td>\n",
       "      <td>5500.0</td>\n",
       "    </tr>\n",
       "    <tr>\n",
       "      <th>4</th>\n",
       "      <td>105</td>\n",
       "      <td>Edward</td>\n",
       "      <td>Sales</td>\n",
       "      <td>38</td>\n",
       "      <td>60000</td>\n",
       "      <td>12</td>\n",
       "      <td>2010-11-25</td>\n",
       "      <td>Male</td>\n",
       "      <td>5000</td>\n",
       "      <td>3.5</td>\n",
       "      <td>Average</td>\n",
       "      <td>6000.0</td>\n",
       "    </tr>\n",
       "  </tbody>\n",
       "</table>\n",
       "</div>"
      ],
      "text/plain": [
       "   Employee Id     Name Department  Age  Salary  Years_of_Experience  \\\n",
       "0          101    Alice         HR   29   50000                    4   \n",
       "1          102      Bob         IT   34   70000                    8   \n",
       "2          103  Charlie         IT   41   65000                   10   \n",
       "3          104    Diana  Marketing   28   55000                    3   \n",
       "4          105   Edward      Sales   38   60000                   12   \n",
       "\n",
       "  Joining_Date  Gender  Bonus  Rating Performance     Tax  \n",
       "0   2020-03-15  Female   5000     4.5   Excellent  5000.0  \n",
       "1   2017-07-19    Male   7000     4.0        Good  7000.0  \n",
       "2   2013-06-01    Male   6000     3.8     Average  6500.0  \n",
       "3   2021-02-10  Female   4500     4.7   Excellent  5500.0  \n",
       "4   2010-11-25    Male   5000     3.5     Average  6000.0  "
      ]
     },
     "execution_count": 20,
     "metadata": {},
     "output_type": "execute_result"
    }
   ],
   "source": [
    "df_N['Tax'] = [(x/10) for x in df_N['Salary']]\n",
    "df_N"
   ]
  },
  {
   "cell_type": "markdown",
   "id": "b3e69e43-b49e-48bd-bdca-0e29cfb914a5",
   "metadata": {},
   "source": [
    "l) Save the modified DataFrame (with added columns) to a new CSV file."
   ]
  },
  {
   "cell_type": "code",
   "execution_count": 22,
   "id": "b8cb6446-197b-4b75-8fd0-a9c2b84f6c70",
   "metadata": {},
   "outputs": [],
   "source": [
    "df_N.to_csv(\"Employments.csv\" , index=False)"
   ]
  },
  {
   "cell_type": "code",
   "execution_count": null,
   "id": "54b44f65-8305-4e89-aa59-d85a261d8955",
   "metadata": {},
   "outputs": [],
   "source": []
  }
 ],
 "metadata": {
  "kernelspec": {
   "display_name": "Python 3 (ipykernel)",
   "language": "python",
   "name": "python3"
  },
  "language_info": {
   "codemirror_mode": {
    "name": "ipython",
    "version": 3
   },
   "file_extension": ".py",
   "mimetype": "text/x-python",
   "name": "python",
   "nbconvert_exporter": "python",
   "pygments_lexer": "ipython3",
   "version": "3.12.7"
  }
 },
 "nbformat": 4,
 "nbformat_minor": 5
}
