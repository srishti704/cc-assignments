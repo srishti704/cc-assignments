{
 "cells": [
  {
   "cell_type": "markdown",
   "id": "ad290199-4cbd-40f0-a013-e73b9ea30e9e",
   "metadata": {},
   "source": [
    "1: Create a List L that is defined as= [10, 20, 30, 40, 50, 60, 70, 80]. i. WAP to add 200 and 300 to L. ii. WAP to remove 10 and 30 from L. iii. WAP to sort L in ascending order. iv. WAP to sort L in descending order."
   ]
  },
  {
   "cell_type": "code",
   "execution_count": 1,
   "id": "089727f9-5aff-461b-906d-269cef4ab502",
   "metadata": {},
   "outputs": [
    {
     "name": "stdout",
     "output_type": "stream",
     "text": [
      "[10, 20, 30, 40, 50, 60, 70, 80, 200, 300]\n",
      "[20, 40, 50, 60, 70, 80, 200, 300]\n",
      "[20, 40, 50, 60, 70, 80, 200, 300]\n",
      "[300, 200, 80, 70, 60, 50, 40, 20]\n"
     ]
    }
   ],
   "source": [
    "list1 = [10, 20, 30, 40, 50, 60, 70, 80]\n",
    "list1.extend([200,300])\n",
    "print(list1)\n",
    "list1.remove(10)\n",
    "list1.remove(30)\n",
    "print(list1)\n",
    "list1.sort()\n",
    "print(list1)\n",
    "list1.sort(reverse=True)\n",
    "print(list1)"
   ]
  },
  {
   "cell_type": "markdown",
   "id": "5978ca1b-2286-4028-b6cd-d6577543f986",
   "metadata": {},
   "source": [
    "2: Create a tuple of marks scored as scores = (45, 89.5, 76, 45.4, 89, 92, 58, 45) and perform the following operations using tuple functions: i. Identify the highest score and its index in the tuple. ii. Find the lowest score and count how many times it appears. iii. Reverse the tuple and return it as a list. iv. Check if a specific score ‘76’ (input by the user) is present in the tuple and print its first occurrence index, or a message saying it’s not present."
   ]
  },
  {
   "cell_type": "code",
   "execution_count": 2,
   "id": "827728f5-6abe-41c2-b51a-c7bbb391d286",
   "metadata": {},
   "outputs": [
    {
     "name": "stdout",
     "output_type": "stream",
     "text": [
      "92\n",
      "5\n",
      "45\n",
      "1\n",
      "[45, 58, 92, 89, 45.4, 76, 89.5, 45]\n",
      "The first occurrence of score 76 is at index 2.\n"
     ]
    }
   ],
   "source": [
    "scores = (45, 89.5, 76, 45.4, 89, 92, 58, 45)\n",
    "print(max(scores))\n",
    "print(scores.index(max(scores)))\n",
    "print(min(scores))\n",
    "print(scores.count(max(scores)))\n",
    "tupleToList = list(scores[::-1])\n",
    "print(f\"{tupleToList}\")\n",
    "val = 76\n",
    "try:\n",
    "    print(f\"The first occurrence of score {val} is at index {scores.index(val)}.\")\n",
    "except ValueError:\n",
    "    print(f\"Score {val} is not present in the tuple.\")\n"
   ]
  },
  {
   "cell_type": "markdown",
   "id": "9d88f1dd-870a-405b-90c7-6232bdbb2583",
   "metadata": {},
   "source": [
    "3: WAP to create a list of 100 random numbers between 100 and 900. Count and print the: i. All odd numbers ii. All even numbers iii. All prime numbers"
   ]
  },
  {
   "cell_type": "code",
   "execution_count": 3,
   "id": "78f8635b-436c-4837-b1a6-45a0af0a2c86",
   "metadata": {},
   "outputs": [
    {
     "name": "stdout",
     "output_type": "stream",
     "text": [
      "List : [497, 170, 572, 235, 750, 341, 342, 161, 676, 404, 540, 860, 340, 685, 510, 765, 657, 403, 235, 559, 519, 349, 556, 209, 346, 458, 385, 309, 108, 716, 588, 569, 774, 733, 759, 298, 819, 279, 245, 509, 816, 225, 468, 361, 204, 163, 163, 198, 585, 386, 633, 755, 825, 548, 875, 277, 868, 162, 220, 203, 280, 707, 634, 719, 534, 637, 470, 633, 607, 195, 460, 354, 264, 113, 542, 491, 431, 426, 230, 517, 598, 814, 170, 422, 644, 704, 733, 142, 468, 870, 852, 434, 861, 861, 790, 222, 667, 641, 515, 545]\n",
      "Even Num: [170, 572, 750, 342, 676, 404, 540, 860, 340, 510, 556, 346, 458, 108, 716, 588, 774, 298, 816, 468, 204, 198, 386, 548, 868, 162, 220, 280, 634, 534, 470, 460, 354, 264, 542, 426, 230, 598, 814, 170, 422, 644, 704, 142, 468, 870, 852, 434, 790, 222]\n",
      "Odd Num: [497, 235, 341, 161, 685, 765, 657, 403, 235, 559, 519, 349, 209, 385, 309, 569, 733, 759, 819, 279, 245, 509, 225, 361, 163, 163, 585, 633, 755, 825, 875, 277, 203, 707, 719, 637, 633, 607, 195, 113, 491, 431, 517, 733, 861, 861, 667, 641, 515, 545]\n",
      "Prime Num: [497, 170, 572, 235, 750, 341, 342, 161, 676, 404, 540, 860, 340, 685, 510, 765, 657, 403, 235, 559, 519, 349, 556, 209, 346, 458, 385, 309, 108, 716, 588, 569, 774, 733, 759, 298, 819, 279, 245, 509, 816, 225, 468, 361, 204, 163, 163, 198, 585, 386, 633, 755, 825, 548, 875, 277, 868, 162, 220, 203, 280, 707, 634, 719, 534, 637, 470, 633, 607, 195, 460, 354, 264, 113, 542, 491, 431, 426, 230, 517, 598, 814, 170, 422, 644, 704, 733, 142, 468, 870, 852, 434, 861, 861, 790, 222, 667, 641, 515, 545]\n"
     ]
    }
   ],
   "source": [
    "import random\n",
    "listX = [random.randint(100,900) for _ in range(100)]\n",
    "print(\"List :\",listX)\n",
    "evenNum = [x for x in listX if x%2==0]\n",
    "print(\"Even Num:\", evenNum)\n",
    "oddNum = [x for x in listX if not x%2==0]\n",
    "print(\"Odd Num:\",oddNum)\n",
    "primeNum = [x for x in listX if all(i%x!=0 for i in range(2,int(x**0.5)+1))]\n",
    "print(\"Prime Num:\",primeNum)"
   ]
  },
  {
   "cell_type": "markdown",
   "id": "13f0e2ec-df31-46ce-a769-05b40db91a3a",
   "metadata": {},
   "source": [
    "4: Consider the following two sets, A and B, representing scores of two teams in multiple matches. A = {34, 56, 78, 90} and B = {78, 45, 90, 23} WAP to perform the following operations using set funcƟons: i. Find the unique scores achieved by both teams (union of sets). ii. Identify the scores that are common to both teams (intersection of sets). iii. Find the scores that are exclusive to each team (symmetric difference). iv. Check if the scores of team A are a subset of team B, and if team B's scores are a superset of team A. v. Remove a specific score X (input by the user) from set A if it exists. If not, print a message saying it is not present."
   ]
  },
  {
   "cell_type": "code",
   "execution_count": 4,
   "id": "a695cc02-31d7-44e4-9b75-26dbd180612a",
   "metadata": {},
   "outputs": [
    {
     "name": "stdout",
     "output_type": "stream",
     "text": [
      "{34, 45, 78, 23, 56, 90}\n",
      "{90, 78}\n",
      "{34, 45, 23, 56}\n",
      "The scores of team A are a subset of team B: False\n",
      "team B's scores are a superset of team A: False\n"
     ]
    },
    {
     "name": "stdin",
     "output_type": "stream",
     "text": [
      "Enter a score:  45\n"
     ]
    },
    {
     "name": "stdout",
     "output_type": "stream",
     "text": [
      "Score 45 not present in team A.\n"
     ]
    }
   ],
   "source": [
    "A = {34, 56, 78, 90}\n",
    "B = {78, 45, 90, 23}\n",
    "print(A|B)\n",
    "print(A&B)\n",
    "print(A.symmetric_difference(B))\n",
    "\n",
    "print(f\"The scores of team A are a subset of team B: {A.issubset(B)}\")\n",
    "print(f\"team B's scores are a superset of team A: {B.issuperset(A)}\")\n",
    "\n",
    "user_in = int(input(\"Enter a score: \"))\n",
    "# Try to remove the score from A\n",
    "if user_in in A:\n",
    "    A.remove(user_in)\n",
    "    print(f\"Score {user_in} removed.\")\n",
    "else:\n",
    "    print(f\"Score {user_in} not present in team A.\")"
   ]
  },
  {
   "attachments": {},
   "cell_type": "markdown",
   "id": "3d97a79b-a105-45f7-8fc5-4e8d7f6d3646",
   "metadata": {},
   "source": [
    "5: Write a program to rename a key city to a location in the following dictionary."
   ]
  },
  {
   "cell_type": "code",
   "execution_count": 6,
   "id": "aa6d802e-5fe4-4d65-b860-2c6b8d25f985",
   "metadata": {},
   "outputs": [
    {
     "name": "stdout",
     "output_type": "stream",
     "text": [
      "{'name': 'Srishti Jain', 'age': 20, 'salary': 900000, 'city': 'Fazilka'}\n",
      "{'name': 'Srishti Jain', 'age': 20, 'salary': 900000, 'location': 'Fazilka'}\n"
     ]
    }
   ],
   "source": [
    "dict1 = {\n",
    "    'name':\"Srishti Jain\",\n",
    "    'age' :20,\n",
    "    'salary' : 900000,\n",
    "    'city': 'Fazilka'\n",
    "}\n",
    "print(dict1)\n",
    "dict1['location'] = dict1.pop('city')\n",
    "print(dict1)"
   ]
  },
  {
   "cell_type": "code",
   "execution_count": null,
   "id": "161666da-f51b-4c64-90cd-7a20f9f64c13",
   "metadata": {},
   "outputs": [],
   "source": []
  }
 ],
 "metadata": {
  "kernelspec": {
   "display_name": "Python 3 (ipykernel)",
   "language": "python",
   "name": "python3"
  },
  "language_info": {
   "codemirror_mode": {
    "name": "ipython",
    "version": 3
   },
   "file_extension": ".py",
   "mimetype": "text/x-python",
   "name": "python",
   "nbconvert_exporter": "python",
   "pygments_lexer": "ipython3",
   "version": "3.12.7"
  }
 },
 "nbformat": 4,
 "nbformat_minor": 5
}
